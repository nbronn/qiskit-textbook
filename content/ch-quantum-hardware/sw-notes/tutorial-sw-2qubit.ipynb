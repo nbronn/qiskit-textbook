{
 "cells": [
  {
   "cell_type": "markdown",
   "metadata": {
    "slideshow": {
     "slide_type": "slide"
    }
   },
   "source": [
    "## IBM Quantum Network Startup Office Hours\n",
    "\n",
    "<img src=\"qubit-drive.png\" alt=\"Drawing\" style=\"width: 600px;\"/>\n",
    "\n",
    "### by nick brønn"
   ]
  },
  {
   "cell_type": "markdown",
   "metadata": {
    "slideshow": {
     "slide_type": "subslide"
    }
   },
   "source": [
    "### Jaynes-Cummings Hamiltonian"
   ]
  },
  {
   "cell_type": "markdown",
   "metadata": {
    "slideshow": {
     "slide_type": "fragment"
    }
   },
   "source": [
    "For qubits, we can describe the dynamics of the qubit with the **Pauli Matrices**\n",
    "\n",
    "$$\n",
    "\\sigma^x = \\begin{pmatrix} 0 & 1 \\\\ 1 & 0 \\end{pmatrix} \\qquad\n",
    "\\sigma^y = \\begin{pmatrix} 0 & -i \\\\ i & 0 \\end{pmatrix} \\qquad\n",
    "\\sigma^z = \\begin{pmatrix} 1 & 0 \\\\ 0 & -1 \\end{pmatrix} \\qquad\n",
    "$$"
   ]
  },
  {
   "cell_type": "markdown",
   "metadata": {
    "slideshow": {
     "slide_type": "fragment"
    }
   },
   "source": [
    "The Pauli matrices let us define raising and lowering operators\n",
    "\n",
    "$$ \\sigma^+ = \\frac{1}{2}( \\sigma^x - i\\sigma^y) \\qquad {\\rm and} \n",
    "\\qquad \\sigma^- = \\frac{1}{2}( \\sigma^x + i\\sigma^y)$$"
   ]
  },
  {
   "cell_type": "markdown",
   "metadata": {
    "slideshow": {
     "slide_type": "fragment"
    }
   },
   "source": [
    "They raise and lower qubit states\n",
    "\n",
    "$$ \\sigma^+ |0\\rangle = |1\\rangle \\qquad \\sigma^+ |1\\rangle = 0\n",
    "\\qquad {\\rm and} \\qquad \n",
    "\\sigma^-|1\\rangle = |0\\rangle \\qquad \\sigma^-|0\\rangle = 0$$"
   ]
  },
  {
   "cell_type": "markdown",
   "metadata": {
    "slideshow": {
     "slide_type": "fragment"
    }
   },
   "source": [
    "The interaction between qubit and resonator is descibed by the **Jaynes-Cummings Hamiltonian**\n",
    "\n",
    "$$\n",
    "H_{\\rm JC}^{\\rm (RWA)}/\\hbar = \\underbrace{\\omega_r a^\\dagger a}_\\text{resonator} - \\overbrace{\\frac{1}{2} \\omega_q \\sigma_z}^\\text{qubit} + \\underbrace{g(a^\\dagger \\sigma^- + a \\sigma^+)}_\\text{dipole interaction}.\n",
    "$$"
   ]
  },
  {
   "cell_type": "markdown",
   "metadata": {
    "slideshow": {
     "slide_type": "fragment"
    }
   },
   "source": [
    "In order to understand it, we must *block-diagonalize* it using the *Schrieffer-Wolff transformation*."
   ]
  },
  {
   "cell_type": "markdown",
   "metadata": {
    "slideshow": {
     "slide_type": "subslide"
    }
   },
   "source": [
    "## The Schrieffer-Wolff Transformation"
   ]
  },
  {
   "cell_type": "markdown",
   "metadata": {
    "slideshow": {
     "slide_type": "fragment"
    }
   },
   "source": [
    "You have a diagonalized Hamiltonian plus a perturbation\n",
    "$$\n",
    "H \\quad = \\quad \\underbrace{\\begin{pmatrix}\n",
    "\\Box &  &  &  &  &  &  \\\\\n",
    " & \\Box &  &  &  &  &  \\\\\n",
    " &  & \\Box &  &  &  &  \\\\\n",
    " &  &  & \\Box &  &  &  \\\\\n",
    " &  &  &  & \\Box &  &  \\\\\n",
    " &  &  &  &  & \\Box &  \\\\\n",
    " &  &  &  &  &  & \\Box \\end{pmatrix}}_\\text{diagonal} \\quad + \\quad \n",
    "\\underbrace{\\begin{pmatrix}\n",
    "\\times & \\times & \\times & \\times & \\cdot & \\cdot & \\cdot \\\\\n",
    "\\times & \\times & \\times & \\times & \\cdot & \\cdot & \\cdot \\\\\n",
    "\\times & \\times & \\times & \\times & \\cdot & \\cdot & \\cdot \\\\\n",
    "\\times & \\times & \\times & \\times & \\cdot & \\cdot & \\cdot \\\\\n",
    "\\cdot & \\cdot & \\cdot & \\cdot & \\times & \\times & \\times \\\\\n",
    "\\cdot & \\cdot & \\cdot & \\cdot & \\times & \\times & \\times \\\\\n",
    "\\cdot & \\cdot & \\cdot & \\cdot & \\times & \\times & \\times \\end{pmatrix}}_\\text{perturbation}\n",
    "$$"
   ]
  },
  {
   "cell_type": "markdown",
   "metadata": {
    "slideshow": {
     "slide_type": "fragment"
    }
   },
   "source": [
    "Split the perturbation into *block diagonal* and *block off-diagonal* parts so that $H = H_0 + H_1 + H_2$\n",
    "$$\n",
    "H \\quad = \\quad \\underbrace{\\begin{pmatrix}\n",
    "\\Box &  &  &  &  &  &  \\\\\n",
    " & \\Box &  &  &  &  &  \\\\\n",
    " &  & \\Box &  &  &  &  \\\\\n",
    " &  &  & \\Box &  &  &  \\\\\n",
    " &  &  &  & \\Box &  &  \\\\\n",
    " &  &  &  &  & \\Box &  \\\\\n",
    " &  &  &  &  &  & \\Box \\end{pmatrix}}_\\text{diagonal}\n",
    "\\quad + \\quad\n",
    "\\underbrace{\\begin{pmatrix}\n",
    "\\times & \\times & \\times & \\times &  &  &  \\\\\n",
    "\\times & \\times & \\times & \\times &  &  &  \\\\\n",
    "\\times & \\times & \\times & \\times &  &  &  \\\\\n",
    "\\times & \\times & \\times & \\times &  &  &  \\\\\n",
    " &  &  &  & \\times & \\times & \\times \\\\\n",
    " &  &  &  & \\times & \\times & \\times \\\\\n",
    " &  &  &  & \\times & \\times & \\times \\end{pmatrix}}_\\text{block diagonal} \n",
    "\\quad + \\quad\n",
    "\\underbrace{\\begin{pmatrix}\n",
    " &  &  &  & \\cdot & \\cdot & \\cdot \\\\\n",
    " &  &  &  & \\cdot & \\cdot & \\cdot \\\\\n",
    " &  &  &  & \\cdot & \\cdot & \\cdot \\\\\n",
    " &  &  &  & \\cdot & \\cdot & \\cdot \\\\\n",
    "\\cdot & \\cdot & \\cdot & \\cdot &  &  &  \\\\\n",
    "\\cdot & \\cdot & \\cdot & \\cdot &  &  &  \\\\\n",
    "\\cdot & \\cdot & \\cdot & \\cdot &  &  &  \\end{pmatrix}}_\\text{block non-diagonal}\n",
    "$$"
   ]
  },
  {
   "cell_type": "markdown",
   "metadata": {
    "slideshow": {
     "slide_type": "slide"
    }
   },
   "source": [
    "## The Schrieffer-Wolff Transformation"
   ]
  },
  {
   "cell_type": "markdown",
   "metadata": {
    "slideshow": {
     "slide_type": "fragment"
    }
   },
   "source": [
    "We seek an anti-hermitian, block off-diagonal operator $S$ such that\n",
    "\n",
    "$$\n",
    "H_{\\rm eff} = e^{iS} H e^{-iS} = \\sum_{m=0}^\\infty \\frac{1}{m!} \\left[H, S\\right]^{(m)} \\qquad {\\rm with} \\qquad \\left[H,S\\right]^{(m)} = \\left[\\left[H,S\\right]^{(m-1)},S\\right] \\quad {\\rm and} \\quad \\left[H,S\\right]^{(0)} = H\n",
    "$$\n",
    "\n",
    "is the generalized commutator"
   ]
  },
  {
   "cell_type": "markdown",
   "metadata": {
    "slideshow": {
     "slide_type": "fragment"
    }
   },
   "source": [
    "Taking $H_1+H_2$ as a perturbation on the diagonal $H_0$ and $S$ as a Taylor expansion\n",
    "\n",
    "$$ H = H_0 + \\lambda(H_1 + H_2) \\qquad S = \\sum_{m=1}^\\infty \\lambda^m S^{(m)} $$\n",
    "\n",
    "to keep track of the order $\\lambda$"
   ]
  },
  {
   "cell_type": "markdown",
   "metadata": {
    "slideshow": {
     "slide_type": "fragment"
    }
   },
   "source": [
    "Then\n",
    "\n",
    "$$\n",
    "H_{\\rm eff} = H_0 + \\lambda (H_1+H_2) + \\left[H_0 + \\lambda(H_1+H_2), \\lambda S^{(1)}\\right] \n",
    "  + \\frac{1}{2} \\left[ \\left[ H_0 + \\lambda(H_1+H_2), \\lambda S^{(1)}\\right], \\lambda S^{(1)}\\right]\n",
    "  + \\left[H_0 + \\lambda(H_1+H_2), \\lambda^2 S^{(2)}\\right] + \\ldots \\\\\n",
    "  \\approx H_0 + \\lambda \\left( H_1 + H_2 + \\left[H_0, S^{(1)}\\right] \\right) \n",
    "  + \\lambda^2 \\left( \\left[H_1+H_2, S^{(1)}\\right] + \\frac{1}{2} \\left[ \\left[H_0, S^{(1)}\\right], S^{(1)}\\right] + \\left[H_0, S^{(2)}\\right]\\right)\n",
    "$$\n",
    "\n",
    "up to second order in $\\lambda$"
   ]
  },
  {
   "cell_type": "markdown",
   "metadata": {
    "slideshow": {
     "slide_type": "slide"
    }
   },
   "source": [
    "## The Schrieffer-Wolff Transformation"
   ]
  },
  {
   "cell_type": "markdown",
   "metadata": {
    "slideshow": {
     "slide_type": "fragment"
    }
   },
   "source": [
    "The transformation eliminates the block off-diagonal part of $H_{\\rm eff}$,\n",
    "\n",
    "$$\n",
    "H_{\\rm eff}^{\\rm off-diag} = \\sum_{m=0}^\\infty \\frac{1}{(2m+1)!} [\\underbrace{H_0 + H_1}_\\text{block diag}, S]^{(2m+1)} + \\sum_{m=0}^\\infty \\frac{1}{(2m)!} [\\underbrace{H_2}_\\text{block off-diag}, S]^{(2m)} \\equiv 0,\n",
    "$$\n",
    "\n",
    "to each order of $\\lambda$"
   ]
  },
  {
   "cell_type": "markdown",
   "metadata": {
    "slideshow": {
     "slide_type": "fragment"
    }
   },
   "source": [
    "Expanding\n",
    "\n",
    "$$\n",
    "H_{\\rm eff}^{\\rm off-diag} = \\left[ H_0 + \\lambda H_1, \\lambda S^{(1)} \\right]+\\lambda H_2 + \\left[H_0 + \\lambda H_1, \\lambda^2 S^{(2)}\\right]\n",
    "  + \\frac{1}{3!} \\left[ H_0+\\lambda H_1, \\lambda S^{(1)}\\right]^{(3)} + \\frac{1}{2!} \\left[ \\lambda H_2, \\lambda S^{(1)}\\right]^{(2)} \\\\\n",
    "  = \\lambda \\left( \\left[ H_0, S^{(1)} \\right] + H_2 \\right) + \\lambda^2 \\left( \\left[H_1, S^{(1)} \\right] + \\left[H_0, S^{(2)}\\right]\\right) + \\ldots\n",
    "$$"
   ]
  },
  {
   "cell_type": "markdown",
   "metadata": {
    "slideshow": {
     "slide_type": "fragment"
    }
   },
   "source": [
    "Going to second order yields\n",
    "\n",
    "$$\n",
    "\\left[ H_0, S^{(1)} \\right] = -H_2 \\qquad \\left[ H_0, S^{(2)} \\right] = -\\left[H_1, S^{(1)}\\right]\n",
    "$$"
   ]
  },
  {
   "cell_type": "markdown",
   "metadata": {
    "slideshow": {
     "slide_type": "slide"
    }
   },
   "source": [
    "## The Schrieffer-Wolff Transformation\n",
    "$$\n",
    "H_{\\rm eff} = H_0 + \\lambda \\left( H_1 + H_2 + \\left[H_0, S^{(1)}\\right] \\right) \n",
    "  + \\lambda^2 \\left( \\left[H_1+H_2, S^{(1)}\\right] + \\frac{1}{2} \\left[ \\left[H_0, S^{(1)},\\right] S^{(1)}\\right] + \\left[H_0, S^{(2)}\\right]\\right)\n",
    "$$"
   ]
  },
  {
   "cell_type": "markdown",
   "metadata": {
    "slideshow": {
     "slide_type": "fragment"
    }
   },
   "source": [
    "Substituting the equations needed to cancel the block off-diagonal terms and letting $\\lambda \\to 1$\n",
    "\n",
    "$$\n",
    "H_{\\rm eff} = H_0 + H_1 + \\frac{1}{2} \\left[ H_2, S^{(1)} \\right]\n",
    "$$\n",
    "\n",
    "Now we only need to find $S^{(1)}$ for a second-order correction!"
   ]
  },
  {
   "cell_type": "markdown",
   "metadata": {
    "slideshow": {
     "slide_type": "fragment"
    }
   },
   "source": [
    "The recent manuscript [A Systematic Method for Schrieffer-Wolff Transformation and Its Generalizations](http://www.arxiv.org/abs/2004.06534) systematically provides the ansatz by calculating\n",
    "\n",
    "$$\\eta = [H_0, H_2] $$\n",
    "\n",
    "and set the coefficients such that\n",
    "\n",
    "$$ [H_0, \\eta] = H_2$$\n",
    "\n",
    "which means $\\eta$ is the same as $S^{(1)}$ by uniqueness"
   ]
  },
  {
   "cell_type": "markdown",
   "metadata": {
    "slideshow": {
     "slide_type": "slide"
    }
   },
   "source": [
    "# Two Qubits Coupled by a Bus Resonator"
   ]
  },
  {
   "cell_type": "markdown",
   "metadata": {
    "slideshow": {
     "slide_type": "fragment"
    }
   },
   "source": [
    "## Dressing of Bus on Qubits\n",
    "Consider two *qubits* coupled by a \"bus\" transmission line resonator \n",
    "$$\n",
    "H_{\\rm JC}^{\\rm (RWA)} = \\omega_r a^\\dagger a + \\sum_{i=1}^2 \\left( - \\frac{1}{2} \\omega_{q_i} \\sigma_i^z + g_i(a^\\dagger \\sigma_i^- + a \\sigma_i^+) \\right)\n",
    "$$\n",
    "where qubits in the dispersive regime\n",
    "\n",
    "$$g_i \\ll |\\Delta_i| = |\\omega_r-\\omega_{q_i}|$$"
   ]
  },
  {
   "cell_type": "markdown",
   "metadata": {
    "slideshow": {
     "slide_type": "fragment"
    }
   },
   "source": [
    "\n",
    "Analogous to the cQED case, we can do a Schrieffer-Wolff transformation with \n",
    "$$\n",
    "S^{(1)} = -\\sum_i \\frac{g_i}{\\Delta_i}\\left( a^\\dagger \\sigma_i^- - a\\sigma_i^+\\right)\n",
    "$$\n",
    "where we are now chosing the block diagonalization to be even- and odd-parity states of the qubits, \n",
    "$$\n",
    "\\hat{A} = \\{|0,0,n\\rangle, |1,1,n\\rangle\\} \\qquad {\\rm and} \\qquad \\hat{B} = \\{|0,1,n\\rangle, |1,0,n\\rangle\\}\n",
    "$$"
   ]
  },
  {
   "cell_type": "markdown",
   "metadata": {
    "slideshow": {
     "slide_type": "slide"
    }
   },
   "source": [
    "## Dressing of Bus on Qubits\n",
    "\n",
    "The first correction term is similarly calculated as\n",
    "$$\n",
    "[H^2, S^{(1)}] \n",
    "= \\left[ \\sum_i g_i(a^\\dagger \\sigma_i^- + a \\sigma_i^+), -\\sum_j \\frac{g_j}{\\Delta_j}\\left( a^\\dagger \\sigma_j^- - a\\sigma_j^+\\right)\\right]\n",
    "$$"
   ]
  },
  {
   "cell_type": "markdown",
   "metadata": {
    "slideshow": {
     "slide_type": "fragment"
    }
   },
   "source": [
    "Expanding the commutators\n",
    "$$ \\ldots\n",
    "= \\sum_i \\frac{g_i^2}{\\Delta_i} [a^\\dagger \\sigma_i^-, a\\sigma_i^+]\n",
    " +\\frac{1}{2} \\sum_{i \\ne j} \\frac{g_i g_j}{\\Delta_j} \\left( [a^\\dagger \\sigma_i^-, a \\sigma_j^+] - [a\\sigma_i^+, a^\\dagger \\sigma_j^-]\\right)\n",
    "$$"
   ]
  },
  {
   "cell_type": "markdown",
   "metadata": {
    "slideshow": {
     "slide_type": "fragment"
    }
   },
   "source": [
    "Apply commutator identity $[AB,CD] = A[B,C]D+[A,C]BD+CA[B,D]+C[A,D]B$\n",
    "\n",
    "$$ \\ldots\n",
    "= \\sum_i \\frac{g_i^2}{\\Delta_i} \\left( [a^\\dagger, a] \\sigma_i^- \\sigma_i^+ + a a^\\dagger [\\sigma_i^-,\\sigma_i^+] \\right)\n",
    " +\\frac{1}{2}\\sum_{i \\ne j} g_i g_j\\left( \\frac{1}{\\Delta_j} + \\frac{1}{\\Delta_i}\\right) [a^\\dagger, a] \\sigma_i^- \\sigma_j^+\n",
    "$$"
   ]
  },
  {
   "cell_type": "markdown",
   "metadata": {
    "slideshow": {
     "slide_type": "fragment"
    }
   },
   "source": [
    "Apply commutators $[a, a^\\dagger]=1$ and $[\\sigma_i^-, \\sigma_i^+] = \\sigma_i^z$ \n",
    "$$ \\ldots\n",
    "= \\sum_{i} \\frac{g_i^2}{\\Delta_i} \\left(2a^\\dagger a +1\\right)\\sigma_i^z - \n",
    "\\sum_{i \\ne j} g_i g_j \\frac{\\Delta_i+\\Delta_j}{2\\Delta_i\\Delta_j} \\sigma_i^- \\sigma_j^+\n",
    "$$"
   ]
  },
  {
   "cell_type": "markdown",
   "metadata": {
    "slideshow": {
     "slide_type": "slide"
    }
   },
   "source": [
    "## Dressing of Bus on Qubits\n",
    "\n",
    "Thus the effective Hamiltonian for two coupled qubits is\n",
    "$$\n",
    "H_{\\rm eff}^{\\rm 2Q} = H_0 + \\frac{1}{2} \\left[ H_2, S^{(1)}\\right] = \\omega_r a^\\dagger a + \\sum_{i=1}^2 \\left\\{ \\frac{g_i^2}{\\Delta_i} \\sigma_i^z a^\\dagger a -\n",
    "\\frac{1}{2}\\left(\\omega_{q_i}-\\frac{g_i^2}{\\Delta_i} \\right)\\sigma_i^z\\right\\} + J(\\sigma_1^+\\sigma_2^- + \\sigma_2^+\\sigma_1^-) \n",
    "$$\n",
    "with effective coupling constant\n",
    "$$\n",
    "J = - \\frac{g_1 g_2(\\Delta_1+\\Delta_2)}{2\\Delta_1\\Delta_2} \n",
    "= \\frac{g_1 g_2 (\\omega_{q_1} + \\omega_{q_2} - 2\\omega_r)}{2(\\omega_r-\\omega_{q_1})(\\omega_r-\\omega_{q_2})}\n",
    "$$"
   ]
  },
  {
   "cell_type": "markdown",
   "metadata": {
    "slideshow": {
     "slide_type": "slide"
    }
   },
   "source": [
    "## Dressing of Qubits on Each Other\n",
    "Forgetting the effect of the resonator\n",
    "$$\n",
    "H_{\\rm eff}^{\\rm 2Q} = -\\frac{\\omega_1}{2} \\sigma_1^z - \\frac{\\omega_2}{2}\\sigma_2^z + J(\\sigma_1^+\\sigma_2^- + \\sigma_2^+\\sigma_1^-)\n",
    "$$\n",
    "where now $\\omega_i = \\omega_{q_i} - g_i^2/\\Delta_i$"
   ]
  },
  {
   "cell_type": "markdown",
   "metadata": {
    "slideshow": {
     "slide_type": "fragment"
    }
   },
   "source": [
    "To observe qubits' effects on each other, apply S-W with\n",
    "$$\n",
    "S^{(1)} = -\\frac{J}{\\Delta_{12}} \\left( \\sigma_1^+ \\sigma_2^- - \\sigma_2^+ \\sigma_1^-\\right)\n",
    "$$\n",
    "where $\\Delta_{12}$ is the detuning between the qubits' frequencies"
   ]
  },
  {
   "cell_type": "markdown",
   "metadata": {
    "slideshow": {
     "slide_type": "fragment"
    }
   },
   "source": [
    "Expanding, applying commutator identities and evaluating yields\n",
    "$$\n",
    "[H^2, S^{(1)}] = -\\frac{J^2}{\\Delta_{12}} \\left[ \\sigma_1^+\\sigma_2^- + \\sigma_2^+\\sigma_1^-, \\sigma_1^+ \\sigma_2^- - \\sigma_2^+ \\sigma_1^-\\right]\n",
    "= -\\frac{J^2}{\\Delta_{12}} ( \\sigma_1^z - \\sigma_2^z)\n",
    "$$"
   ]
  },
  {
   "cell_type": "markdown",
   "metadata": {
    "slideshow": {
     "slide_type": "fragment"
    }
   },
   "source": [
    "The dressed Hamiltonian is then\n",
    "$$\n",
    "H_{\\rm dressed}^{\\rm 2Q} = -\\frac{1}{2}\\left(\\omega_1 + \\frac{J^2}{\\Delta_{12}}\\right)\\sigma_1^z - \\frac{1}{2}\\left(\\omega_2 - \\frac{J^2}{\\Delta_{12}}\\right) \\sigma_2^z\\equiv\n",
    "-\\frac{\\tilde{\\omega}_1}{2} \\sigma_1^z - \\frac{\\tilde{\\omega}_2}{2}\\sigma_2^z\n",
    "$$"
   ]
  },
  {
   "cell_type": "markdown",
   "metadata": {
    "slideshow": {
     "slide_type": "slide"
    }
   },
   "source": [
    "## Cross Resonance Hamiltonian\n",
    "\n",
    "Drive qubit 1 (control) at the frequency of qubit 2 (target)\n",
    "$$\n",
    "\\hat{H}_{\\rm CR}(t) = \\Omega(t) \\left( \\sigma_1^+ e^{-i\\tilde{\\omega}_2 t} + \\sigma_1^- e^{i\\tilde{\\omega}_2 t}\\right)\n",
    "$$"
   ]
  },
  {
   "cell_type": "markdown",
   "metadata": {
    "slideshow": {
     "slide_type": "fragment"
    }
   },
   "source": [
    "Must apply the same S-W to the (block non-diagonal) CR Hamiltonian\n",
    "$$\n",
    "[\\hat{H}_{\\rm CR}, S^{(1)}] = -\\frac{J\\Omega(t)}{\\Delta_{12}} \\left[ \\sigma_1^+ e^{-i\\tilde{\\omega}_2 t} + \\sigma_1^- e^{i\\tilde{\\omega}_2 t}, \\sigma_1^+ \\sigma_2^- - \\sigma_2^+ \\sigma_1^-\\right] \n",
    "= -\\frac{J\\Omega(t)}{\\Delta_{12}} \\left(\\sigma_1^z \\sigma_2^+ e^{-i\\tilde{\\omega}_2 t}\n",
    "+ \\sigma_1^z \\sigma_2^- e^{i\\tilde{\\omega}_2 t} \\right)\n",
    "$$\n",
    "where $\\Delta_{12} = \\tilde{\\omega}_1 - \\tilde{\\omega}_2$"
   ]
  },
  {
   "cell_type": "markdown",
   "metadata": {
    "slideshow": {
     "slide_type": "fragment"
    }
   },
   "source": [
    "The sum of the system and cross resonance  \n",
    "$$\n",
    "\\hat{H}_{\\rm eff} = -\\frac{\\tilde{\\omega}_1}{2} \\sigma_1^z - \\frac{\\tilde{\\omega}_2}{2}\\sigma_2^z -\\frac{J\\Omega(t)}{2\\Delta_{12}} \\left(\\sigma_1^z \\sigma_2^+ e^{-i\\tilde{\\omega}_2 t}\n",
    "+ \\sigma_1^z \\sigma_2^- e^{i\\tilde{\\omega}_2 t} \\right)\n",
    "$$\n",
    "yield the effective Hamiltonian"
   ]
  },
  {
   "cell_type": "markdown",
   "metadata": {
    "slideshow": {
     "slide_type": "fragment"
    }
   },
   "source": [
    "Moving into the interaction frame of qubit 2 (target)\n",
    "$$\n",
    "\\hat{H}_{\\rm eff}^{\\rm int} = U_2 \\hat{H}_{\\rm eff} U_2^\\dagger - i U_2 \\dot{U_2}^\\dagger\n",
    "$$\n",
    "with \n",
    "$$\n",
    "U_2 = e^{-i\\tilde{\\omega}_2 t (\\sigma_1^z + \\sigma_2^z)/2} = I\\cos(\\tilde{\\omega}_2 t/2) - i(\\sigma_1^z + \\sigma_2^z)\\sin(\\tilde{\\omega}_2 t/2)\n",
    "$$\n"
   ]
  },
  {
   "cell_type": "markdown",
   "metadata": {
    "slideshow": {
     "slide_type": "slide"
    }
   },
   "source": [
    "## Cross Resonance Hamiltonian\n",
    "\n",
    "$$\n",
    "\\hat{H}_{\\rm eff}^{\\rm int} = U_2 \\hat{H}_{\\rm eff} U_2^\\dagger - i U_2 \\dot{U_2}^\\dagger\n",
    "$$"
   ]
  },
  {
   "cell_type": "markdown",
   "metadata": {
    "slideshow": {
     "slide_type": "fragment"
    }
   },
   "source": [
    "Noting that\n",
    "$$\n",
    "\\sigma_2^\\pm \\sigma_2^z = (1/2) \\left(\\sigma_2^x \\sigma_2^z \\mp i \\sigma_2^y \\sigma_2^z\\right) = (1/2)(-i\\sigma_2^y \\pm \\sigma_2^x) = \\pm\\sigma_2^\\pm = -\\sigma_2^z \\sigma_2^\\pm\n",
    "$$\n",
    "we calculate the operator terms \n",
    "$$\n",
    "U\\sigma_2^\\pm U^\\dagger = \\left(I\\cos(\\tilde{\\omega}_2 t/2) - i\\sigma_2^z\\sin(\\tilde{\\omega}_2 t/2)\\right) \\sigma_2^\\pm \\left(I\\cos(\\tilde{\\omega}_2 t/2) + i\\sigma_2^z\\sin(\\tilde{\\omega}_2 t/2)\\right) \\\\\n",
    "= \\sigma_2^\\pm \\left( \\cos(\\tilde{\\omega}_2 t/2) \\pm i\\sin(\\tilde{\\omega}_2 t/2)\\right) \\left(\\cos(\\tilde{\\omega}_2 t/2) \\pm i\\sin(\\tilde{\\omega}_2 t/2) \\right) \\\\\n",
    "= \\sigma_2^\\pm \\left( \\cos^2(\\tilde{\\omega}_2 t/2) \\pm 2i\\cos(\\tilde{\\omega}_2 t/2)\\sin(\\tilde{\\omega}_2 t/2) - \\sin^2(\\tilde{\\omega}_2 t/2)\\right) \\\\\n",
    "= \\sigma_2^\\pm \\left( \\cos(\\tilde{\\omega}_2 t) \\pm i\\sin(\\tilde{\\omega}_2 t) \\right) = e^{\\pm i\\tilde{\\omega}_2 t} \\sigma_2^{\\pm}\n",
    "$$\n",
    "by the double angle formula"
   ]
  },
  {
   "cell_type": "markdown",
   "metadata": {
    "slideshow": {
     "slide_type": "fragment"
    }
   },
   "source": [
    "Therefore the block-diagonalized Hamiltonian is\n",
    "$$\n",
    "\\hat{H}_{\\rm CR,\\,eff}^{\\rm int} = - \\frac{\\tilde{\\omega}_1-\\tilde{\\omega_2}}{2} \\sigma_1^z -\\frac{J \\Omega(t)}{2 \\Delta_{12}}\n",
    "\\left(\\sigma_1^z \\sigma_2^+ + \\sigma_1^z \\sigma_2^- \\right) \n",
    "= - \\underbrace{\\frac{\\tilde{\\omega}_1-\\tilde{\\omega_2}}{2} \\sigma_1^z}_\\text{$ZI$ (Stark) term} - \\underbrace{\\frac{J \\Omega(t)}{2\\Delta_{12}} \\sigma_1^z \\sigma_2^x}_\\text{$ZX$ term}\n",
    "$$\n",
    "in the frame of the target"
   ]
  },
  {
   "cell_type": "markdown",
   "metadata": {
    "slideshow": {
     "slide_type": "fragment"
    }
   },
   "source": [
    "There is often an additional $IX$ term for an uncontrolled rotation of the target that arises from crosstalk and/or other starting Hamiltonians"
   ]
  },
  {
   "cell_type": "markdown",
   "metadata": {
    "slideshow": {
     "slide_type": "slide"
    }
   },
   "source": [
    "## Understanding Hamiltonians with Qiskit Pulse"
   ]
  },
  {
   "cell_type": "markdown",
   "metadata": {
    "slideshow": {
     "slide_type": "fragment"
    }
   },
   "source": [
    "Qiskit Pulse understands two components of the Hamiltonian\n",
    "$$\n",
    "\\hat{H} = \\hat{H}_{\\rm sys} + \\hat{H}_{\\rm dr}\n",
    "$$\n",
    "the *system* and *drive* terms"
   ]
  },
  {
   "cell_type": "code",
   "execution_count": 1,
   "metadata": {
    "slideshow": {
     "slide_type": "fragment"
    }
   },
   "outputs": [],
   "source": [
    "import numpy as np\n",
    "from qiskit.providers.aer.pulse import duffing_system_model\n",
    "from qiskit.test.mock import FakeAthens\n",
    "backend = FakeAthens()"
   ]
  },
  {
   "cell_type": "code",
   "execution_count": 2,
   "metadata": {
    "slideshow": {
     "slide_type": "fragment"
    }
   },
   "outputs": [
    {
     "name": "stdout",
     "output_type": "stream",
     "text": [
      "Sampling time: 0.2222222222222222 ns\n"
     ]
    }
   ],
   "source": [
    "backend_config = backend.configuration()\n",
    "ham_params = backend_config.hamiltonian['vars']\n",
    "dt = backend_config.dt\n",
    "print(f\"Sampling time: {dt*1e9} ns\") "
   ]
  },
  {
   "cell_type": "markdown",
   "metadata": {
    "slideshow": {
     "slide_type": "slide"
    }
   },
   "source": [
    "## System Hamiltonian"
   ]
  },
  {
   "cell_type": "markdown",
   "metadata": {
    "slideshow": {
     "slide_type": "fragment"
    }
   },
   "source": [
    "Qiskit extends the effective two **qubit** Hamiltonian derived earlier\n",
    "$$\n",
    "H_{\\rm eff}^{\\rm 2Q} = -\\frac{\\omega_1}{2} \\sigma_1^z - \\frac{\\omega_2}{2}\\sigma_2^z + J(\\sigma_1^+\\sigma_2^- + \\sigma_2^+\\sigma_1^-)\n",
    "$$\n",
    "to two (or more) **transmons**\n",
    "$$\n",
    "\\hat{H}_{\\rm sys} = \\sum_i \\left( \\omega_i c_i^\\dagger c_i + \\frac{\\delta_i}{2} c_i^\\dagger c_i(c_i^\\dagger c_i - 1) \\right) + \\sum_{i \\ne j} J_{ij} \\left(c_i^\\dagger c_j + c_j^\\dagger c_i \\right)\n",
    "$$\n",
    "as *Duffing oscillators*"
   ]
  },
  {
   "cell_type": "code",
   "execution_count": 3,
   "metadata": {
    "slideshow": {
     "slide_type": "fragment"
    }
   },
   "outputs": [
    {
     "data": {
      "text/plain": [
       "{'delta0': -2111793476.4003935,\n",
       " 'delta1': -2089442135.2015743,\n",
       " 'delta2': -2117918367.1068604,\n",
       " 'delta3': -2041004543.1261215,\n",
       " 'delta4': -2111988556.5086775,\n",
       " 'jq0q1': 10495754.104003914,\n",
       " 'jq1q2': 10781715.51120001,\n",
       " 'jq2q3': 8920779.377814226,\n",
       " 'jq3q4': 8985191.65108779,\n",
       " 'omegad0': 958349137.5757763,\n",
       " 'omegad1': 967797392.7053753,\n",
       " 'omegad2': 1010800447.4779291,\n",
       " 'omegad3': 966976824.3851832,\n",
       " 'omegad4': 968036413.3241769,\n",
       " 'wq0': 32519697103.041138,\n",
       " 'wq1': 33098960063.576107,\n",
       " 'wq2': 31741900013.195618,\n",
       " 'wq3': 30513144568.391895,\n",
       " 'wq4': 32161389486.192696}"
      ]
     },
     "execution_count": 3,
     "metadata": {},
     "output_type": "execute_result"
    }
   ],
   "source": [
    "ham_params"
   ]
  },
  {
   "cell_type": "markdown",
   "metadata": {
    "slideshow": {
     "slide_type": "slide"
    }
   },
   "source": [
    "## Pulse Model of Drive Hamiltonian"
   ]
  },
  {
   "cell_type": "markdown",
   "metadata": {
    "slideshow": {
     "slide_type": "fragment"
    }
   },
   "source": [
    "Single-qubit drive Hamiltonians\n",
    "$$\n",
    "\\hat{H}_i = \\Omega_i (c + c^\\dagger) D(t)\n",
    "$$\n",
    "where the drive strengths $\\Omega_i$'s correspond to remaining parameters in `ham_params`"
   ]
  },
  {
   "cell_type": "markdown",
   "metadata": {
    "slideshow": {
     "slide_type": "fragment"
    }
   },
   "source": [
    "Drive term is sum of all drive terms\n",
    "$$\n",
    "\\hat{H}_{\\rm dr} = \\sum_i \\hat{H}_{\\rm dr}^{(i)} \\qquad {\\rm where} \\qquad\n",
    "\\hat{H}_{\\rm dr}^{(i)} = \\sum_i D_j^{(i)} \\hat{H}_i \\qquad {\\rm with} \\qquad\n",
    "D_j = {\\rm Re}[e^{2\\pi i f j dt + \\phi_j} d_j]\n",
    "$$\n",
    "where $d_j$ and $\\phi_j$ are the drive amplitudes and phases specified by the user in Pulse"
   ]
  },
  {
   "cell_type": "markdown",
   "metadata": {
    "slideshow": {
     "slide_type": "slide"
    }
   },
   "source": [
    "## Construct the Duffing Model"
   ]
  },
  {
   "cell_type": "code",
   "execution_count": 4,
   "metadata": {
    "slideshow": {
     "slide_type": "fragment"
    }
   },
   "outputs": [],
   "source": [
    "dim_oscillators = 3 # cutoff Hilbert space dimension per transmon\n",
    "\n",
    "SF = 1/(2*np.pi) # scale factor to convert from angular frequency to Hz\n",
    "\n",
    "oscillator_freqs = [] # qubit transition frequencies\n",
    "anharm_freqs = [] # qubit anharmonicities\n",
    "drive_strengths = [] # drive Rabi strength\n",
    "coupling_dict = {} # coupling strength between qubit pairs"
   ]
  },
  {
   "cell_type": "markdown",
   "metadata": {
    "slideshow": {
     "slide_type": "slide"
    }
   },
   "source": [
    "## Construct the Duffing Model"
   ]
  },
  {
   "cell_type": "code",
   "execution_count": 5,
   "metadata": {
    "slideshow": {
     "slide_type": "fragment"
    }
   },
   "outputs": [],
   "source": [
    "for key in ham_params:\n",
    "    if 'wq' in key:\n",
    "        oscillator_freqs.append(ham_params[key]*SF)\n",
    "    elif 'delta' in key:\n",
    "        anharm_freqs.append(ham_params[key]*SF)\n",
    "    elif 'omegad' in key:\n",
    "        drive_strengths.append(ham_params[key]*SF)\n",
    "    elif 'jq' in key:\n",
    "        _, q0str, q1str = key.split('q')\n",
    "        q0idx = int(q0str)\n",
    "        q1idx = int(q1str)\n",
    "        coupling_dict[(q0idx, q1idx)] = ham_params[key]*SF"
   ]
  },
  {
   "cell_type": "markdown",
   "metadata": {
    "slideshow": {
     "slide_type": "slide"
    }
   },
   "source": [
    "## Construct the Duffing Model"
   ]
  },
  {
   "cell_type": "code",
   "execution_count": 6,
   "metadata": {
    "slideshow": {
     "slide_type": "fragment"
    }
   },
   "outputs": [],
   "source": [
    "# create the model\n",
    "backend_model = duffing_system_model(dim_oscillators=dim_oscillators,\n",
    "                                       oscillator_freqs=oscillator_freqs,\n",
    "                                       anharm_freqs=anharm_freqs,\n",
    "                                       drive_strengths=drive_strengths,\n",
    "                                       coupling_dict=coupling_dict,\n",
    "                                       dt=dt)"
   ]
  },
  {
   "cell_type": "markdown",
   "metadata": {
    "slideshow": {
     "slide_type": "slide"
    }
   },
   "source": [
    "## Run Job on Pulse Simulator"
   ]
  },
  {
   "cell_type": "code",
   "execution_count": 8,
   "metadata": {
    "slideshow": {
     "slide_type": "fragment"
    }
   },
   "outputs": [],
   "source": [
    "from qiskit import assemble\n",
    "from qiskit.providers.aer import PulseSimulator\n",
    "backend_sim = PulseSimulator()\n",
    "qubit_lo_freq = backend_model.hamiltonian.get_qubit_lo_from_drift()"
   ]
  },
  {
   "cell_type": "markdown",
   "metadata": {
    "slideshow": {
     "slide_type": "slide"
    }
   },
   "source": [
    "## Run Job on Pulse Simulator"
   ]
  },
  {
   "cell_type": "code",
   "execution_count": 9,
   "metadata": {
    "slideshow": {
     "slide_type": "fragment"
    }
   },
   "outputs": [],
   "source": [
    "def run_pulse(sched): \n",
    "    \"\"\"Runs the scheduled experiment on the simulated backend.\n",
    "    \n",
    "    Args:\n",
    "      sched: pulse schedule to run\n",
    "    \"\"\"\n",
    "    # assemble the qobj\n",
    "    test_qobj = assemble(sched,\n",
    "                        backend=backend_sim,\n",
    "                        qubit_lo_freq=qubit_lo_freq,\n",
    "                        meas_level=1, \n",
    "                        meas_return='avg',\n",
    "                        shots=5012)\n",
    "    \n",
    "    # run simulation\n",
    "    sim_result = backend_sim.run(test_qobj, system_model=backend_model).result()\n",
    "    return sim_result.get_memory(0)"
   ]
  },
  {
   "cell_type": "code",
   "execution_count": null,
   "metadata": {
    "slideshow": {
     "slide_type": "fragment"
    }
   },
   "outputs": [],
   "source": [
    "import qiskit.tools.jupyter\n",
    "%qiskit_version_table"
   ]
  }
 ],
 "metadata": {
  "celltoolbar": "Slideshow",
  "kernelspec": {
   "display_name": "Python 3",
   "language": "python",
   "name": "python3"
  },
  "language_info": {
   "codemirror_mode": {
    "name": "ipython",
    "version": 3
   },
   "file_extension": ".py",
   "mimetype": "text/x-python",
   "name": "python",
   "nbconvert_exporter": "python",
   "pygments_lexer": "ipython3",
   "version": "3.8.5"
  },
  "rise": {
   "enable_chalkboard": true,
   "start_slideshow_at": "beginning",
   "theme": "monokai",
   "transition": "zoom"
  }
 },
 "nbformat": 4,
 "nbformat_minor": 4
}
