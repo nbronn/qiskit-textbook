{
 "cells": [
  {
   "cell_type": "markdown",
   "metadata": {},
   "source": [
    "The Schrieffer-Wolff transformation is one of the most important mathematical tools in device physics. It basically allows one to decouple weakly-coupled systems into an effective Hamiltonian described by an interaction $J$. Herein, we will follow the treatment of Suzanne Richer's Masters thesis, *Perturbative Analysis of Two-Qubit Gates on Transmon Qubits*. Which itself makes use of the book chapter from Winkler and Jay's summer school transmon notes. However, she effectively applies *ansatze* of her analysis, which is instructive in actually implementing the transformation in a practical manner. "
   ]
  },
  {
   "cell_type": "markdown",
   "metadata": {},
   "source": [
    "The Schrieffer-Wolff transformation is fundamentally about choosing an operator $S$ to successive orders that block-diagonalize a perturbed Hamiltonian into block diagonals (i.e., into two effectively independent subsystems). By perturbative Hamiltonian, I mean one written as\n",
    "$$\n",
    "H = H^0 + \\lambda V,\n",
    "$$\n",
    "where $\\lambda$ is a small parameter and $H^0$ diagonal. Here $\\lambda V$ is decomposed as $H^1 + H^2$ with $H^1$ purely block-diagonal and $H^2$ purely block off-diagonal. Successive approximations to $H$ are denoted $H^{(m)}$ with $H^{(0)} = H^0$, and $S$ is chosen so that\n",
    "$$\n",
    "H_{\\rm eff} = e^{iS} H e^{-iS} = \\sum_{m=0}^\\infty \\frac{1}{m!} [H, S]^{(m)} = \\sum_{m=0}^\\infty \\lambda^m H^{(m)},\n",
    "$$\n",
    "where the generalized commutator is defined resursively as $[H,S]^{(m)} = [[H,S]^{(m-1)},S]$ and $[H,S]^{(0)} = H$. As $S$ must be block off-diagonal and anti-hermitian to force the block off-diagonal elements of $H_{\\rm eff}$ to vanish, we must have that\n",
    "$$\n",
    "H_{\\rm eff}^{\\rm o} = \\sum_{m=0}^\\infty \\frac{1}{(2m+1)!} [H^0 + H^1, S]^{(2m+1)} + \\sum_{m=0}^\\infty \\frac{1}{(2m)!} [H^2, S]^{(2m)} \\equiv 0.\n",
    "$$"
   ]
  },
  {
   "cell_type": "markdown",
   "metadata": {},
   "source": [
    "This sets up succesive approximations to $S$ as a Taylor series with\n",
    "$$\n",
    "S = \\sum_{m=1}^\\infty S^{(m)}\n",
    "$$\n",
    "yielding to successive orders of $\\lambda$ (starting with 0) the equations for determining $S^{(m)}$,\n",
    "$$\n",
    "[H^0, S^{(1)}] = -H^2 \\qquad\n",
    "[H^0, S^{(2)}] = -[H^1, S^{(1)}] \\qquad\n",
    "[H^0, S^{(3)}] = -[H^1, S^{(2)}] - \\frac{1}{3} [[H^2, S^{(1)}], S^{(1)}],\n",
    "$$\n",
    "where our ansatz that satisfied these equations is guaranteed unique by Winkler's work. Then our effective Hamiltonian becomes\n",
    "$$\n",
    "H_{\\rm eff} = H^0+H^1+[H^2,S^{(1)}] + \\frac{1}{2} [[H^0, S^{(1)}], S^{(1)}] = H^0+H^1+\\frac{1}{2}[H^2,S^{(1)}].\n",
    "$$"
   ]
  },
  {
   "cell_type": "markdown",
   "metadata": {},
   "source": [
    "Note that finding the correct ansatz (to me) is the most difficult part about applying the Schrieffer-Wolff transformation. In the examples below from S Richer, an ansatz of similar form (i.e. anti-hermitian) to the off-diagonal parts is made and confirmed *a postori*. Recently, the manuscript [A Systematic Method for Schrieffer-Wolff Transformation and Its Generalizations](http://www.arxiv.org/abs/2004.06534) has appeared on the arXiv attesting to systematically providing the ansatz and applying it to numerous systems (including the Jaynes-Cumming Hamiltonian below).\n",
    "\n",
    "As such, the *generator* $\\eta$ is calculated as $\\eta = [H^0, H^2]$. In keeping the scalar coefficients of $\\eta$ undetermined, then $S^{(1)}$ can be calculated as the specific $\\eta$ that satisfies $[\\eta, H^0]=-H^2$. Note the hermiticity of $H^0$ and $H^2$ guarantee the anti-hermiticity of $\\eta$ and thus $S^{(1)}$."
   ]
  },
  {
   "cell_type": "markdown",
   "metadata": {},
   "source": [
    "### Example: Jaynes-Cumming Hamiltonian\n",
    "\n",
    "Perhaps the most basic use of the Schrieffer-Wolff transformation is the block-diagonalization of the Jaynes-Cumming Hamiltonian\n",
    "$$\n",
    "H = \\omega_r a^\\dagger a - \\frac{1}{2} \\omega_q \\sigma_z + g(a^\\dagger + a) (\\sigma^+ + \\sigma^-) \\approx\n",
    "\\omega_r a^\\dagger a - \\frac{1}{2} \\omega_q \\sigma_z + g(a^\\dagger \\sigma^- + a \\sigma^+),\n",
    "$$\n",
    "where the second step is the Rotating Wave Approximation (RWA), into qubit states by eliminating the effect of the resonator for cQED. Here the first two terms are diagonal and the term coupled by $g$ is the perturbation, $\\sigma_z$ is the Pauli $Z$ matrix and $\\sigma^\\pm = (1/2)(\\sigma_x \\mp i\\sigma_y)$ (not sure why this definition seems to be opposite of what I expected, but it makes the math work out). We choose the ansatz\n",
    "$$\n",
    "S^{(1)} = \\alpha a^\\dagger \\sigma^- - \\alpha^* a \\sigma^+\n",
    "$$\n",
    "and put it though the equation for the first requirement,\n",
    "$$\n",
    "[H^0, S^{(1)}] = \\left[\\omega_r a^\\dagger a - \\frac{1}{2} \\omega_q \\sigma_z, \\alpha a^\\dagger \\sigma^- - \\alpha^* a \\sigma^+\\right]\n",
    "= \\alpha \\omega_r [a^\\dagger a, a^\\dagger] \\sigma^- - \\alpha^* \\omega_r [a^\\dagger a, a]\\sigma^+\n",
    "- \\frac{1}{2}\\alpha \\omega_q a^\\dagger [\\sigma_z, \\sigma^-] + \\frac{1}{2} \\alpha^*\\omega_q a[\\sigma_z, \\sigma^+].\n",
    "$$\n",
    "Since\n",
    "$$\n",
    "[a^\\dagger a, a^\\dagger] = a^\\dagger [a, a^\\dagger] + [a^\\dagger, a^\\dagger]a = a^\\dagger \\qquad\n",
    "[a^\\dagger a, a] = a^\\dagger [a, a] + [a^\\dagger, a]a = -a\n",
    "$$\n",
    "and\n",
    "$$\n",
    "[\\sigma_z, \\sigma^\\pm] = (1/2)[\\sigma_z, \\sigma_x \\mp i\\sigma_y] = i(\\sigma_y \\pm i\\sigma_x) = \\mp2\\sigma^\\pm\n",
    "$$\n",
    "we arrive at\n",
    "$$\n",
    "[H^0, S^{(1)}] = \\alpha\\omega_r a^\\dagger \\sigma^- + \\alpha^* \\omega_r a \\sigma^+ \n",
    "- \\omega_q \\alpha a^\\dagger \\sigma^- - \\omega_q \\alpha^* a \\sigma^+\n",
    "= \\alpha(\\omega_r - \\omega_q) a^\\dagger \\sigma^- + \\alpha^*(\\omega_r - \\omega_q) a\\sigma^+\n",
    "\\equiv -g(a^\\dagger \\sigma^- + a \\sigma^+)\n",
    "$$\n",
    "so that $\\alpha = -g/\\Delta$ with $\\Delta = \\omega_r - \\omega_q \\gg g$, verifying that the interaction strength is much less than the energy scale difference, which we already knew (and is called the *dispersive regime*)."
   ]
  },
  {
   "cell_type": "markdown",
   "metadata": {},
   "source": [
    "Now that we have \n",
    "$$\n",
    "S^{(1)} = -\\frac{g}{\\Delta}\\left( a^\\dagger \\sigma^- - a\\sigma^+\\right)\n",
    "$$\n",
    "we can calculate\n",
    "$$\n",
    "[H^2,S^{(1)}] = \\left[g(a^\\dagger \\sigma^- + a \\sigma^+), -\\frac{g}{\\Delta}\\left( a^\\dagger \\sigma^- - a\\sigma^+\\right)\\right] = \\frac{2g^2}{\\Delta} [a^\\dagger \\sigma^-, a\\sigma^+] = \\frac{2g^2}{\\Delta} \\left([a^\\dagger, a] \\sigma^-\\sigma^+ + a a^\\dagger [ \\sigma^-, \\sigma^+] \\right) = \n",
    "\\frac{g^2}{\\Delta} \\left( 2a^\\dagger a + 1 \\right) \\sigma_z - \\frac{g^2}{\\Delta} I\n",
    "$$\n",
    "from\n",
    "$$\n",
    "-\\sigma^-\\sigma^+ + (a^\\dagger a+1)[ \\sigma^-, \\sigma^+]\n",
    "=  a^\\dagger a \\sigma_z - \\sigma^+\\sigma^-\n",
    "$$\n",
    "$$\n",
    "[\\sigma^-, \\sigma^+] = (1/4)[\\sigma_x + i\\sigma_y, \\sigma_x - i\\sigma_y] = -(i/2)[\\sigma_x, \\sigma_y] = \\sigma_z \n",
    "$$\n",
    "$$\n",
    "\\sigma^+ \\sigma^- = (1/4)(\\sigma_x - i\\sigma_y)(\\sigma_x + i\\sigma_y) = (1/2)I + (i/4)[\\sigma_x,\\sigma_y] = (1/2)(I-\\sigma_z)\n",
    "$$\n",
    "\n"
   ]
  },
  {
   "cell_type": "markdown",
   "metadata": {},
   "source": [
    "Therefore, the effective Hamiltonian to second order is\n",
    "$$\n",
    "H_{\\rm eff} = H^0 + \\frac{1}{2}[H^2, S^{(1)}] = \\left(\\omega_r + \\frac{g^2}{\\Delta} \\sigma^z \\right) a^\\dagger a \n",
    "- \\frac{1}{2} \\left(\\omega_q - \\frac{g^2}{\\Delta}\\right)\\sigma^z.\n",
    "$$\n",
    "Here, we see that the frequency of the resonator is dependent on state of the qubit via the dispersive shift $\\chi = g^2/\\Delta$. This is apparently also the *Stark shift*, while the modification in qubit frequency is due to the *Lamb shift* of vacuum energy fluctuations."
   ]
  },
  {
   "cell_type": "markdown",
   "metadata": {},
   "source": [
    "## Full Transmon\n",
    "\n",
    "Because we are using *transmons* instead of *qubits*, we need to be careful to take the higher-order energy terms into effect. The full transmon Hamiltonian coupled to the reasout resonators is\n",
    "$$\n",
    "H = \\omega_r a^\\dagger a + \\sum_j \\omega_j |j\\rangle\\langle j| + g\\left(a^\\dagger c + ac^\\dagger \\right),\n",
    "$$\n",
    "where now $c = \\sum_j \\sqrt{j+1}|j\\rangle\\langle j+1|$ is the transmon lowering operator. Similarly, taking the weakly interacting subsets $A$ as the even-numbered transmon modes and $B$ as the odd-numbered transmon modes. First, it turns out the Ansatz for the second-order correction similar to the qubit case as\n",
    "$$\n",
    "S^{(1)} = \\alpha a^\\dagger c - \\alpha^* a c^\\dagger,\n",
    "$$\n",
    "is just going to be simplistic. In face, we need a slightly more general Ansatz where we replace $\\alpha$ with $\\alpha_j$'s in the definition of the transmon operators $c$, which will include the coupling between the states $|n+1,j\\rangle$ and $|n,j+1\\rangle$, and will be denoted by $\\tilde{c}$. \n"
   ]
  },
  {
   "cell_type": "markdown",
   "metadata": {},
   "source": [
    "So let's calculated $S^{(1)}$ for t more generalized Ansatz\n",
    "$$\n",
    "S^{(1)} = \\sum_j \\alpha_j a^\\dagger \\sqrt{j+1}|j\\rangle\\langle j+1| - \\alpha_j^* a \\sqrt{j+1}|j+1\\rangle\\langle j|,\n",
    "$$\n",
    "we calculated that (for some reason it is a bit easier to calculate using $j'$ for the projection operator instead of $j$),\n",
    "$$\n",
    "[H^0, S^{(1)}] = \\left[ \\omega_r a^\\dagger a + \\sum_{j'} \\omega_{j'} |j'\\rangle\\langle j'|, \\sum_j \\alpha_j a^\\dagger \\sqrt{j+1}|j\\rangle\\langle j+1| - \\alpha_j^* a \\sqrt{j+1}|j+1\\rangle\\langle j| \\right]\n",
    "$$"
   ]
  },
  {
   "cell_type": "markdown",
   "metadata": {},
   "source": [
    "$$\n",
    "= \\sum_j \\omega_r\\left(\\alpha_j \\left[a^\\dagger a, a^\\dagger\\right] \\sqrt{j+1} |j\\rangle\\langle j+1| - \\alpha_j^* \\left[a^\\dagger a, a\\right] \\sqrt{j+1} |j+1\\rangle\\langle j|\\right) + \\\\\n",
    "\\sum_{jj'} \\omega_{j'}\\left( \\alpha_j a^\\dagger \\sqrt{j+1} \\left[|j'\\rangle\\langle j'|, |j\\rangle\\langle j+1|\\right]\n",
    "- \\alpha_j^* a \\sqrt{j+1}\\left[ |j'\\rangle \\langle j'|, |j+1\\rangle\\langle j|\\right] \\right)\n",
    "$$"
   ]
  },
  {
   "cell_type": "markdown",
   "metadata": {},
   "source": [
    "$$\n",
    "= \\sum_j \\omega_r\\left(\\alpha_j a^\\dagger \\sqrt{j+1} |j\\rangle\\langle j+1| + \\alpha_j^* a, a \\sqrt{j+1} |j+1\\rangle\\langle j|\\right) + \\\\\n",
    "\\sum_{jj'} \\omega_{j'}\\left( \\alpha_j a^\\dagger \\sqrt{j+1} \\left(\\delta_{jj'} |j'\\rangle\\langle j+1| - \\delta_{j+1,j'} |j\\rangle\\langle j'| \\right)\n",
    "- \\alpha_j^* a \\sqrt{j+1}\\left( \\delta_{j+1,j'}|j'\\rangle \\langle j| + \\delta_{jj'}|j+1\\rangle\\langle j'|\\right) \\right)\n",
    "$$"
   ]
  },
  {
   "cell_type": "markdown",
   "metadata": {},
   "source": [
    "$$\n",
    "= \\sum_j \\omega_r\\left(\\alpha_j a^\\dagger \\sqrt{j+1} |j\\rangle\\langle j+1| + \\alpha_j^* a, a \\sqrt{j+1} |j+1\\rangle\\langle j|\\right) + \\\\\n",
    "\\sum_j \\alpha_j a^\\dagger \\sqrt{j+1} \\left(\\omega_j |j\\rangle \\langle j+1| - \\omega_{j+1}|j\\rangle\\langle j+1| \\right) - \\alpha_j^* a \\sqrt{j+1} \\left(\\omega_{j+1} |j+1\\rangle\\langle j| + \\omega_j |j+1\\rangle\\langle j|\\right)\n",
    "$$\n",
    "Now since $\\omega_j = \\left( \\left( \\omega - \\delta/2\\right)j + \\frac{\\delta}{2}j^2\\right)$, or likewise take the transmon Hamiltonian that has the square of the transmon number operator,\n",
    "$$\n",
    "\\omega_{j+1}-\\omega_j = \\omega - \\delta/2 + \\frac{\\delta}{2}((j+1)^2-j^2) = \\omega + j\\delta,\n",
    "$$\n",
    "which altenatively comes out of the definition of the transmon.\n"
   ]
  },
  {
   "cell_type": "markdown",
   "metadata": {},
   "source": [
    "Therefore,\n",
    "$$\n",
    "\\sum_j (\\omega_r - \\omega - j\\delta) \\left(\\alpha_j a^\\dagger \\sqrt{j+1} |j\\rangle\\langle j+1| + \\alpha_j^* a, a \\sqrt{j+1} |j+1\\rangle\\langle j|\\right) = -g\\left(a^\\dagger c + ac^\\dagger\\right) = H^{(2)}\n",
    "$$\n",
    "and we have that $\\alpha_j = -g/(\\omega_r-\\omega-j\\delta)$ so that\n",
    "$$\n",
    "S^{(1)} = -g \\sum_j \\frac{\\sqrt{j+1}}{\\omega_r - \\omega - j\\delta} \\left(a^\\dagger |j\\rangle\\langle j+1| - a |j+1\\rangle\\langle j|\\right) = -g\\left(a^\\dagger \\tilde{c} - a \\tilde{c}^\\dagger\\right)\n",
    "$$\n",
    "with $\\tilde{c} = \\sum_j \\frac{\\sqrt{j+1}}{\\omega_r - \\omega - j\\delta} |j\\rangle\\langle j+1|$."
   ]
  },
  {
   "cell_type": "markdown",
   "metadata": {},
   "source": [
    "Ughhh... now calculate the correction\n",
    "$$\n",
    "[H^2, S^{(1)}] = g^2 \\left[a^\\dagger c + a c^\\dagger, a^\\dagger \\tilde{c} - a\\tilde{c}^\\dagger\\right],\n",
    "$$\n",
    "which means it looks like we need some commutation relations! Check these out:\n",
    "$$\n",
    "[c,\\tilde{c}] = \\sum_{jj'} \\frac{\\sqrt{j+1}\\sqrt{j'+1}}{\\omega_r - \\omega - j'\\delta}\n",
    "\\left[|j\\rangle\\langle j+1|, |j'\\rangle\\langle j'+1|\\right] = \\sum_{jj'} \\frac{\\sqrt{j+1}\\sqrt{j'+1}}{\\omega_r - \\omega - j'\\delta}\n",
    "\\left( \\delta_{j+1,j'}|j\\rangle \\langle j'+1| - \\delta_{j,j'+1}|j'\\rangle \\langle j+1| \\right) \\\\\n",
    "=\\sum_{j} \\left(\\frac{\\sqrt{j+1}\\sqrt{j+2}}{\\omega_r - \\omega - (j+1)\\delta} |j\\rangle \\langle j+2| - \n",
    "\\frac{\\sqrt{j+1}\\sqrt{j}}{\\omega_r - \\omega - (j-1)\\delta}|j-1\\rangle \\langle j+1| \\right)\n",
    "=\\sum_{j} \\sqrt{j+1}\\sqrt{j+2} \\left(\\frac{1}{\\omega_r - \\omega - (j+1)\\delta} - \\frac{1}{\\omega_r - \\omega - j\\delta}\\right) |j\\rangle \\langle j+2|\n",
    "$$\n",
    "and\n",
    "$$\n",
    "[c^\\dagger,\\tilde{c}^\\dagger] = \\sum_{jj'} \\frac{\\sqrt{j+1}\\sqrt{j'+1}}{\\omega_r - \\omega - j'\\delta}\n",
    "\\left[|j+1\\rangle\\langle j|, |j'+1\\rangle\\langle j'|\\right] = \\sum_{jj'} \\frac{\\sqrt{j+1}\\sqrt{j'+1}}{\\omega_r - \\omega - j'\\delta}\n",
    "\\left( \\delta_{j,j'+1}|j+1\\rangle \\langle j'| - \\delta_{j+1,j'}|j'+1\\rangle \\langle j| \\right) \\\\\n",
    "=\\sum_{j} \\left(\\frac{\\sqrt{j+1}\\sqrt{j}}{\\omega_r - \\omega - (j-1)\\delta} |j+1\\rangle \\langle j-1| - \n",
    "\\frac{\\sqrt{j+1}\\sqrt{j+2}}{\\omega_r - \\omega - (j+1)\\delta}|j+2\\rangle \\langle j| \\right) \n",
    "=\\sum_{j} \\sqrt{j+1}\\sqrt{j+2} \\left(\\frac{1}{\\omega_r - \\omega - j\\delta} - \\frac{1}{\\omega_r - \\omega - (j+1)\\delta}\\right) |j+2\\rangle \\langle j|\n",
    "$$\n",
    "But no one probably cares about these, because they're two-photon operators, and by eyeballing the calculation, those differences in the parenthesis should be $\\approx \\delta/(\\omega_r-\\omega)$, which is not huge $(\\approx 1/5)$. Let's check out the combo with one annihilation and one creation:\n",
    "$$\n",
    "[c,\\tilde{c}^\\dagger] = \\sum_{jj'} \\frac{\\sqrt{j+1}\\sqrt{j'+1}}{\\omega_r - \\omega - j'\\delta}\n",
    "\\left[|j\\rangle\\langle j+1|, |j'+1\\rangle\\langle j'|\\right] = = \\sum_{jj'} \\frac{\\sqrt{j+1}\\sqrt{j'+1}}{\\omega_r - \\omega - j'\\delta}\n",
    "\\left( \\delta_{j,j'}|j\\rangle \\langle j'| - \\delta_{j,j'}|j'+1\\rangle \\langle j+1| \\right) \\\\\n",
    "=\\sum_{j} \\left(\\frac{\\sqrt{j+1}\\sqrt{j+1}}{\\omega_r - \\omega - j\\delta} |j\\rangle \\langle j| - \n",
    "\\frac{\\sqrt{j+1}\\sqrt{j+1}}{\\omega_r - \\omega - j\\delta}|j+1\\rangle \\langle j+1| \\right)\n",
    "$$"
   ]
  },
  {
   "cell_type": "markdown",
   "metadata": {},
   "source": [
    "$$\n",
    "\n",
    "=\\sum_{j} \\sqrt{j+1}\\sqrt{j+2} \\left(\\frac{1}{\\omega_r - \\omega - (j+1)\\delta} - \\frac{1}{\\omega_r - \\omega - j\\delta}\\right) |j\\rangle \\langle j+2|\n",
    "$$"
   ]
  },
  {
   "cell_type": "markdown",
   "metadata": {},
   "source": [
    "To do: \n",
    " * First correction of $H^0$\n",
    " * Effective 2nd order Hamiltonian\n",
    " * Explanations of Lamb and Stark shifts\n",
    " * HW: Going to higher orders with ansatz $S^{(3)} = \\alpha a^\\dagger a (a^\\dagger \\sigma^- - a\\sigma^+)$ and discover the Kerr effect\n",
    " * I guess you can take these approximations as far as you want to\n",
    "   * Bloch-Siegert Shift (correction due to counter-rotating terms): Make $S^{(1)}=\\alpha_1 a^\\dagger \\sigma^+ + \\alpha_2 a^\\dagger \\sigma^- - \\alpha_2^* a \\sigma^+ - \\alpha_1^* a \\sigma^-$ your ansatz\n",
    " * Full fucking transmon (have fun) (check Jay's notes) - I think I should do this\n",
    "   * This is also considering the full Hamiltonian and not an approximation like Firat's paper\n",
    "   \n",
    "Consideraction of other techniques:\n",
    " * Adiabatic elimination\n",
    " * James-Jerke effective Hamiltonian\n",
    " * Ordinary Perturbation Theory\n",
    " \n",
    "* Apply drive Hamiltonian\n",
    "  * HW: Do off-resonant Hadamard gate using OpenPulse\n",
    "\n",
    "* Two qubit situation\n",
    "  * Qubits coupled by CPW\n",
    "    * What approximations are found in Jay's J\n",
    "  * Driving 2 qubits\n",
    "  * HW: non-CR gates\n",
    "\n",
    "* Where did the coupling come from (i.e. circuit model, etc)?\n",
    "* How do you want to approximate it?"
   ]
  },
  {
   "cell_type": "markdown",
   "metadata": {},
   "source": [
    "## Drive Hamiltonian\n",
    "\n",
    "Following that of Blais *et al* (2004), we model the drive Hamiltonian as\n",
    "$$\n",
    "H^d(t) = \\xi(t)\\left( a^\\dagger e^{-i\\omega_d t} + ae^{i\\omega_d t}\\right).\n",
    "$$\n",
    "Following the treatment of Bishop, the drive acts on the qubit via the Glauber operator\n",
    "$$\n",
    "D(\\alpha) = e^{\\alpha(t) a^\\dagger - \\alpha^*(t) a}.\n",
    "$$\n",
    "Moving to the Jaynes-Cumming Hamiltonian rotating at the drive frequency,\n",
    "$$\n",
    "H = \\Delta_r a^\\dagger a - \\frac{1}{2} \\Delta_q \\sigma^z + g(a^\\dagger \\sigma^- + a\\sigma^+) + \\xi(t)(a^\\dagger + a)\n",
    "$$\n",
    "with $\\Delta_r = \\omega_r - \\omega_d$ and $\\Delta_q = \\omega_q - \\omega_d$. Applying Hadamard's Lemma to nested commutators,\n",
    "$$\n",
    "e^{A}BA^{-A} = B + [A,B] + \\frac{1}{2!} [A,[A,B]] + \\frac{1}{3!}[A,[A,[A,B]]] + \\ldots\n",
    "$$"
   ]
  },
  {
   "cell_type": "markdown",
   "metadata": {},
   "source": [
    "we see that\n",
    "$$\n",
    "D^\\dagger a^{(\\dagger)} D = \\exp\\{-\\alpha(t) a^\\dagger + \\alpha^*(t) a\\} a^{(\\dagger)}\\exp\\{\\alpha(t) a^\\dagger - \\alpha^*(t) a\\} \n",
    "= a^{(\\dagger)} + \\left[-\\alpha(t) a^\\dagger + \\alpha^*(t) a, a^{(\\dagger)}\\right] + \\frac{1}{2!}\\left[-\\alpha(t) a^\\dagger + \\alpha^*(t) a, \\left[-\\alpha(t) a^\\dagger + \\alpha^*(t) a, a^{(\\dagger)}\\right]\\right] + \\ldots\n",
    " = a^{(\\dagger)} + \\alpha^{(*)}\n",
    "$$\n",
    "and\n",
    "$$\n",
    "D^\\dagger a^\\dagger a D = a^\\dagger a + \\left[-\\alpha(t) a^\\dagger + \\alpha^*(t) a, a^\\dagger a\\right] + \\frac{1}{2!}\\left[-\\alpha(t) a^\\dagger + \\alpha^*(t) a, \\left[-\\alpha(t) a^\\dagger + \\alpha^*(t) a, a^\\dagger a\\right]\\right] + \\ldots\n",
    "= a^\\dagger a + \\alpha(t)a^\\dagger + \\alpha^*(t)a + |\\alpha(t)|^2\n",
    "$$\n"
   ]
  },
  {
   "cell_type": "markdown",
   "metadata": {},
   "source": [
    "So that we can transform the Hamiltonian\n",
    "$$\n",
    "\\tilde{H} = D^\\dagger H D - iD^\\dagger \\dot{D} = \\Delta_r\\left(a^\\dagger a + \\alpha(t)a^\\dagger + \\alpha^*(t)a + |\\alpha(t)|^2\\right) - \\frac{1}{2} \\Delta_q \\sigma^z + g\\left((a^\\dagger + \\alpha^*(t))\\sigma^- + (a+\\alpha(t))\\sigma^+\\right) + \\xi(t)\\left(a^\\dagger + \\alpha^*(t) + a + \\alpha(t) \\right) - i\\left(\\dot{\\alpha}(t) a^\\dagger - \\dot{\\alpha}^*(t) a\\right) \\\\\n",
    " = \\Delta_r a^\\dagger a - \\frac{1}{2}\\Delta_q \\sigma^z + g\\left((a^\\dagger + \\alpha^*(t))\\sigma^- + (a+\\alpha(t))\\sigma^+\\right) \\\\\n",
    " + \\xi(t)\\left(a^\\dagger  + a \\right) + \\Delta_r\\left(\\alpha(t)a^\\dagger + \\alpha^*(t)a\\right)- i\\left(\\dot{\\alpha}(t) a^\\dagger - \\dot{\\alpha}^*(t) a\\right)\n",
    "$$"
   ]
  },
  {
   "cell_type": "markdown",
   "metadata": {},
   "source": [
    "where the non-oprator terms have been dropped. The last line can be set to zero if we choose\n",
    "$$\n",
    "-i\\dot{\\alpha}(t) + \\Delta_r \\alpha(t) + \\xi(t) = 0,\n",
    "$$\n",
    "and finally introducting the Rabi frequency $\\Omega(t) = 2g\\alpha(t)$, we arrive at\n",
    "$$\n",
    "\\tilde{H} = \\Delta_r a^\\dagger a - \\frac{1}{2}\\Delta_q \\sigma^z + g\\left(a^\\dagger\\sigma^- + a\\sigma^+\\right)\n",
    "+ \\frac{1}{2} \\left( \\Omega^*(t)\\sigma^- + \\Omega(t) \\sigma^+\\right).\n",
    "$$\n",
    "Since the drive part of the Hamiltonian is block off-diagonal, we can perform a Schrieffer-Wolff transformation on it (for a real drive $\\Omega^*(t) = \\Omega(t)$) and add it to the effective Hamiltonian,\n",
    "$$\n",
    "[\\tilde{H}^d, S^{(1)}] = -\\frac{\\Omega(t)}{2} \\left[ (\\sigma^- + \\sigma^+),\\frac{g}{\\Delta}\\left( a^\\dagger \\sigma^- - a\\sigma^+\\right)\\right] = \\frac{g\\Omega(t)}{2\\Delta}(a + a^\\dagger)\\sigma^z\n",
    "$$\n",
    "so the effective Hamiltonian becomes"
   ]
  },
  {
   "cell_type": "markdown",
   "metadata": {},
   "source": [
    "$$\n",
    "\\tilde{H}_{\\rm eff} = \\left( \\Delta_r + \\frac{g^2}{\\Delta}\\sigma^z\\right) a^\\dagger a - \\frac{1}{2}\\left(\\Delta_q - \\frac{g^2}{\\Delta}\\right) \\sigma^z + \\frac{\\Omega(t)}{2}\\sigma^x\n",
    "+ \\frac{g\\Omega(t)}{4\\Delta}(a + a^\\dagger)\\sigma^z.\n",
    "$$"
   ]
  },
  {
   "cell_type": "markdown",
   "metadata": {},
   "source": [
    "## Two Qubit Case\n",
    "Consider now, two *qubits* coupled by a transmission line resonator (instead of using it for readout). Then the Jaynes-Cumming Hamiltonian in the RWA is\n",
    "$$\n",
    "H = \\sum_{i=1}^2 \\omega_r a^\\dagger a - \\frac{1}{2} \\omega_{q_i} \\sigma_i^z + g_i(a^\\dagger \\sigma_i^- + a \\sigma_i^+)\n",
    "$$\n",
    "where similarly the qubits are far detuned from the cavity so that $g_i \\ll |\\Delta_i| = |\\omega_r-\\omega_{q_i}|$. In a completely analogous situation to the cQED one about, we can do a Schrieffer-Wolff transformation with \n",
    "$$\n",
    "S^{(1)} = -\\sum_i \\frac{g_i}{\\Delta_i}\\left( a^\\dagger \\sigma_i^- - a\\sigma_i^+\\right)\n",
    "$$\n",
    "where we are now chosing the block diagonalization to be even- and odd-parity states of the qubits, $\\hat{A} = \\{|0,0,n\\rangle, |1,1,n\\rangle\\}$ and $\\hat{B} = \\{|0,1,n\\rangle, |1,0,n\\rangle\\}$. Then the first correction term is similarly calculated as\n",
    "$$\n",
    "\\frac{1}{2} [H^2, S^{(1)}] \n",
    "= \\frac{1}{2} \\left[ \\sum_i g_i(a^\\dagger \\sigma_i^- + a \\sigma_i^+), -\\sum_j \\frac{g_j}{\\Delta_j}\\left( a^\\dagger \\sigma_j^- - a\\sigma_j^+\\right)\\right]\n",
    "$$"
   ]
  },
  {
   "cell_type": "markdown",
   "metadata": {},
   "source": [
    "$$\n",
    "= \\sum_i \\frac{g_i^2}{\\Delta_i} [a^\\dagger \\sigma_i^-, a\\sigma_i^+]\n",
    " +\\frac{1}{2} \\sum_{i \\ne j} \\frac{g_i g_j}{\\Delta_j} \\left( [a^\\dagger \\sigma_i^-, a \\sigma_j^+] - [a\\sigma_i^+, a^\\dagger \\sigma_j^-]\\right)\n",
    "$$"
   ]
  },
  {
   "cell_type": "markdown",
   "metadata": {},
   "source": [
    "$$\n",
    "= \\sum_i \\frac{g_i^2}{\\Delta_i} \\left( [a^\\dagger, a] \\sigma_i^- \\sigma_i^+ + a a^\\dagger [\\sigma_i^-,\\sigma_i^+] \\right)\n",
    " +\\frac{1}{2}\\sum_{i \\ne j} g_i g_j\\left( \\frac{1}{\\Delta_j} + \\frac{1}{\\Delta_i}\\right) [a^\\dagger, a] \\sigma_i^- \\sigma_j^+\n",
    "$$"
   ]
  },
  {
   "cell_type": "markdown",
   "metadata": {},
   "source": [
    "$$\n",
    "= \\sum_i \\frac{g_i^2}{\\Delta_i} \\left( - \\sigma_i^- \\sigma_i^+ + (a^\\dagger a + 1) [\\sigma_i^-,\\sigma_i^+] \\right)\n",
    " -\\sum_{i \\ne j} g_i g_j\\frac{\\Delta_i+\\Delta_j}{2\\Delta_i\\Delta_j} \\sigma_i^- \\sigma_j^+\n",
    "$$"
   ]
  },
  {
   "cell_type": "markdown",
   "metadata": {},
   "source": [
    "$$\n",
    "= \\sum_{i} \\frac{g_i^2}{\\Delta_i} \\left(2a^\\dagger a +1\\right)\\sigma^z - \n",
    "\\sum_{i \\ne j} g_i g_j \\frac{\\Delta_i+\\Delta_j}{2\\Delta_i\\Delta_j} \\sigma_i^- \\sigma_j^+\n",
    "$$"
   ]
  },
  {
   "cell_type": "markdown",
   "metadata": {},
   "source": [
    "Therefore, the effective Hamiltonian for two couples qubits is\n",
    "$$\n",
    "H_{\\rm eff} = \\sum_{i=1}^2 \\left(\\omega_r + \\frac{g_i^2}{\\Delta_i} \\sigma_i^z\\right) -\n",
    "\\frac{1}{2}\\left(\\omega_{q_i}-\\frac{g_i^2}{\\Delta_i} \\right)\\sigma_i^z - J(\\sigma_1^+\\sigma_2^- + \\sigma_2^+\\sigma_1^-)\n",
    "$$\n",
    "where the effective coupling constant is\n",
    "$$\n",
    "J = - \\frac{g_1 g_2(\\Delta_1+\\Delta_2)}{2\\Delta_1\\Delta_2} \n",
    "= \\frac{g_1 g_2 (\\omega_{q_1} + \\omega_{q_2} - \\omega_r)}{2(\\omega_r-\\omega_{q_1})(\\omega_r-\\omega_{q_2})}.\n",
    "$$"
   ]
  },
  {
   "cell_type": "markdown",
   "metadata": {},
   "source": [
    "Neglecting the effect of the resonator, we can write the two-qubit Hamiltonian as\n",
    "$$\n",
    "H = -\\frac{\\omega_1}{2} \\sigma_1^z - \\frac{\\omega_2}{2}\\sigma_2^z + J(\\sigma_1^+\\sigma_2^- + \\sigma_2^+\\sigma_1^-)\n",
    "$$\n",
    "where $\\omega_i = \\omega_{q_i} - g_i^2/\\Delta_i$. Assuming the qubits are far detuned from the cavity, then we can do another Schrieffer-Wolff with \n",
    "$$\n",
    "S^{(1)} = -\\frac{J}{\\Delta_{12}} \\left( \\sigma_1^+ \\sigma_2^- - \\sigma_2^+ \\sigma_1^-\\right).\n",
    "$$"
   ]
  },
  {
   "cell_type": "markdown",
   "metadata": {},
   "source": [
    "Then\n",
    "$$\n",
    "[H^2, S^{(1)}] = -\\frac{J^2}{\\Delta_{12}} \\left[ \\sigma_1^+\\sigma_2^- + \\sigma_2^+\\sigma_1^-, \\sigma_1^+ \\sigma_2^- - \\sigma_2^+ \\sigma_1^-\\right]\n",
    "= \\frac{2J^2}{\\Delta_{12}} \\left( \\sigma_1^+ [\\sigma_2^-,\\sigma_2^+] \\sigma_1^- -\n",
    "\\sigma_2^+ [\\sigma_1^+,\\sigma_1^-] \\sigma_2^- \\right) \\\\\n",
    "= \\frac{J^2}{\\Delta_{12}} \\left( (I_1 + \\sigma_1^z)\\sigma_2^z - (I_2 + \\sigma_2^z)\\sigma_1^z\\right)\\\\\n",
    "= -\\frac{J^2}{\\Delta_{12}} ( \\sigma_1^z - \\sigma_2^z)\n",
    "$$"
   ]
  },
  {
   "cell_type": "markdown",
   "metadata": {},
   "source": [
    "Therefore the effective Hamiltonian is\n",
    "$$\n",
    "H_{\\rm eff} = -\\frac{1}{2}\\left(\\omega_1 + \\frac{J^2}{\\Delta_{12}}\\right)\\sigma_1^z - \\frac{1}{2}\\left(\\omega_2 - \\frac{J^2}{\\Delta_{12}}\\right) \\sigma_2^z\\equiv\n",
    "-\\frac{\\tilde{\\omega}_1}{2} \\sigma_1^z - \\frac{\\tilde{\\omega}_2}{2}\\sigma_2^z\n",
    "$$"
   ]
  },
  {
   "cell_type": "markdown",
   "metadata": {},
   "source": [
    "## Cross Resonance\n",
    "\n",
    "Driving qubit one at the frequency of qubit two can be written as\n",
    "$$\n",
    "H^d(t) = \\frac{\\Omega(t)}{2} \\left( \\sigma_1^+ e^{-i\\tilde{\\omega}_2 t} + \\sigma_1^- e^{i\\tilde{\\omega}_2 t}\\right).\n",
    "$$\n",
    "Now, we need to apply Schrieffer-Wolff to the drive term to get the effective Hamiltonian, and then do the RWA at frequency $\\tilde{\\omega}_2$."
   ]
  },
  {
   "cell_type": "markdown",
   "metadata": {},
   "source": [
    "$$\n",
    "[\\tilde{H}^d, S^{(1)}] = -\\frac{J\\Omega(t)}{2\\Delta_{12}} \\left[ \\sigma_1^+ e^{-i\\tilde{\\omega}_2 t} + \\sigma_1^- e^{i\\tilde{\\omega}_2 t}, \\sigma_1^+ \\sigma_2^- - \\sigma_2^+ \\sigma_1^-\\right] \n",
    "= -\\frac{J\\Omega(t)}{2\\Delta_{12}} \\left(\\sigma_1^z \\sigma_2^+ e^{-i\\tilde{\\omega}_2 t}\n",
    "+ \\sigma_1^z \\sigma_2^- e^{i\\tilde{\\omega}_2 t} \\right)\n",
    "$$\n",
    "Transforming back the the rotating frame at $\\omega_2$ (by subtracting $\\omega_2$ and getting rid of the exponentials at $\\omega_2$, we get the effective qubit cross resonance Hamiltonian"
   ]
  },
  {
   "cell_type": "markdown",
   "metadata": {},
   "source": [
    "$$\n",
    "\\tilde{H}_{\\rm eff}^{\\rm CR} = - \\frac{\\tilde{\\omega}_1-\\tilde{\\omega}_2}{2}\\sigma_1^z \n",
    "+ \\frac{\\Omega(t)}{2} \\left(\\sigma_2^x - \\frac{J}{2\\Delta_{12}} \\sigma_1^z \\sigma_2^x \\right)\n",
    "$$"
   ]
  },
  {
   "cell_type": "markdown",
   "metadata": {},
   "source": [
    "## Two Transmon Case\n",
    "\n",
    "Following what was done for a single transmon in a cavity, we *start* with the Hamiltonian\n",
    "$$\n",
    "H = \\omega_r a^\\dagger a + \\sum_{i=1}^2 \\sum_j \\left(\\left(\\omega_i - \\frac{\\delta_i}{2}\\right) + \\frac{\\delta_i}{2}j_i^2\\right) |j_i\\rangle\\langle j_i| + g_i\\left( a^\\dagger c_i + a c_i^\\dagger \\right)\n",
    "$$"
   ]
  },
  {
   "cell_type": "markdown",
   "metadata": {},
   "source": [
    "Similarly, we make the Ansatz\n",
    "$$\n",
    "S^{1} = -\\sum_{i=1}^2 g_i \\left( a^\\dagger \\tilde{c}_i - a\\tilde{c}_i^\\dagger \\right)\n",
    "$$\n",
    "where\n",
    "$$\n",
    "\\tilde{c}_i = \\sum_j \\gamma_{j+1} |j\\rangle\\langle j+1| \\qquad {\\rm with} \\qquad \n",
    "\\gamma_{j+1}=\\frac{\\sqrt{j+1}}{\\omega_r-\\omega-j\\delta}\n",
    "$$\n",
    "is the changed annihilation operator for the transmon. I should check these to make sure everything is smooth cause I was worried about the hermiticity of the ansatz in the Jaynes-Cumming-like case."
   ]
  },
  {
   "cell_type": "markdown",
   "metadata": {},
   "source": [
    "After doing the Schieffer-Wolff transormation, we arrive at the transmon coupling\n",
    "$$\n",
    "J_{j_1,j_2} = \\frac{g_1g_2(\\omega_1+\\omega_2+j_1\\delta_1+j_2\\delta_2-2\\omega_r)}{2(\\omega_r-\\omega_2-j_2\\delta_2)(\\omega_r-\\omega_1-j_1\\delta_1)}.\n",
    "$$"
   ]
  },
  {
   "cell_type": "markdown",
   "metadata": {},
   "source": [
    "## Two Qubit Gates\n",
    "\n",
    "Oh Crap, she doesn't even go into CR for this. "
   ]
  }
 ],
 "metadata": {
  "kernelspec": {
   "display_name": "Python 3",
   "language": "python",
   "name": "python3"
  },
  "language_info": {
   "codemirror_mode": {
    "name": "ipython",
    "version": 3
   },
   "file_extension": ".py",
   "mimetype": "text/x-python",
   "name": "python",
   "nbconvert_exporter": "python",
   "pygments_lexer": "ipython3",
   "version": "3.8.3"
  }
 },
 "nbformat": 4,
 "nbformat_minor": 4
}
